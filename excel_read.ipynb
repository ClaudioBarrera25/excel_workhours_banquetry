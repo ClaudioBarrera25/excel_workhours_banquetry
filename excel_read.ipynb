{
 "cells": [
  {
   "cell_type": "code",
   "execution_count": 25,
   "metadata": {},
   "outputs": [
    {
     "name": "stdout",
     "output_type": "stream",
     "text": [
      "Asistencias 2022 a 2024\\xlsx\\Todos los informes(2023-10).xlsx\n"
     ]
    }
   ],
   "source": [
    "from openpyxl import Workbook, load_workbook\n",
    "import numpy as np\n",
    "import random\n",
    "\n",
    "def generate_random_time(time_day='Noon'):\n",
    "    if time_day == 'Noon':\n",
    "        hour = random.randint(16, 17)\n",
    "        if hour ==16:\n",
    "            minute = random.randint(0, 59)\n",
    "        elif hour == 17:\n",
    "            minute = random.randint(0, 30)\n",
    "    if time_day == 'Morning':\n",
    "        hour = random.randint(7, 8)\n",
    "        if hour ==7:\n",
    "            minute = random.randint(0, 59)\n",
    "        elif hour ==8:\n",
    "            minute = random.randint(0, 30)\n",
    "    return f\"{hour:02d}:{minute:02d}\"\n",
    "\n",
    "files_subscript = [\n",
    "    # '2022-08',\n",
    "    # '2022-09',\n",
    "    # '2022-10',\n",
    "    # '2022-11',\n",
    "    # '2022-12',\n",
    "    # '2023-01',\n",
    "    # '2023-02',\n",
    "    # '2023-03',\n",
    "    # '2023-04',\n",
    "    # '2023-05',\n",
    "    # '2023-06',\n",
    "    # '2023-07',\n",
    "    # '2023-08',\n",
    "    '2023-09',\n",
    "    '2023-10',\n",
    "    '2023-11',\n",
    "    '2023-12',\n",
    "    '2024-01',\n",
    "    '2024-02',\n",
    "    '2024-03',\n",
    "    '2024-04',\n",
    "    '2024-05',\n",
    "    '2024-06',\n",
    "    '2024-07',\n",
    "    '2024-08',\n",
    "    '2024-09',\n",
    "    '2024-10',\n",
    "    '2024-11',\n",
    "    '2024-12'\n",
    "    ]\n",
    "subs = 1\n",
    "filepath_to_load = r'Asistencias 2022 a 2024\\xlsx\\Todos los informes({0}).xlsx'.format(files_subscript[subs])\n",
    "filepath_to_save = r'Asistencias 2022 a 2024\\completos\\Todos los informes({0}).xlsx'.format(files_subscript[subs])\n",
    "\n",
    "\n",
    "workbook = load_workbook(filename=filepath_to_load)\n",
    "sheetnames = workbook.sheetnames \n",
    "registro_asistencia_sheet = workbook['Registro asistencia']\n",
    "print(filepath_to_load)"
   ]
  },
  {
   "cell_type": "code",
   "execution_count": 26,
   "metadata": {},
   "outputs": [],
   "source": [
    "# Check length of the rows \n",
    "cell_values_a_row = []\n",
    "for cell in registro_asistencia_sheet.iter_rows(min_row=1,min_col=1, max_col=1):\n",
    "    cell_values_a_row.append(cell[0].value)\n",
    "\n",
    "days_of_month = []\n",
    "for cell in registro_asistencia_sheet.iter_rows(min_row=4, max_row=4,min_col=1):\n",
    "    for col in cell:\n",
    "        if col.value != None:\n",
    "            days_of_month.append(col.value)\n",
    "\n",
    "columns_month = []\n",
    "for cell in registro_asistencia_sheet.iter_rows(min_row=4, max_row=4,min_col=1):\n",
    "    for col in cell:\n",
    "        if col.value != None:\n",
    "            columns_month.append(col.column) \n",
    "\n",
    "no_trabaja = ['AlejandraR']\n",
    "names_employees = {}\n",
    "for row in registro_asistencia_sheet.iter_rows(min_row=4,min_col=1):\n",
    "    nombre_str = row[7].value\n",
    "    nombre_value = row[9].value\n",
    "    coordenada = row[9].coordinate\n",
    "    column_letter = row[9].column_letter\n",
    "    row_name = row[9].row\n",
    "    row_time = row[9].row +1 \n",
    "    if nombre_str  == 'Nombre :' and nombre_value in no_trabaja:\n",
    "        names_employees[row_time] = {'row_name':row_name, 'column':column_letter, 'coordinate': coordenada, 'nombre':nombre_value, 'trabaja': 'No'} \n",
    "    if nombre_str  == 'Nombre :' and nombre_value not in no_trabaja:\n",
    "        names_employees[row_time] = {'row_name':row_name, 'column':column_letter, 'coordinate': coordenada, 'nombre':nombre_value, 'trabaja': 'Si'} "
   ]
  },
  {
   "cell_type": "code",
   "execution_count": 27,
   "metadata": {},
   "outputs": [
    {
     "name": "stdout",
     "output_type": "stream",
     "text": [
      "[1, 2, 3, 4, 5, 6, 7, 8, 9, 10, 11, 12, 13, 14, 15, 16, 17, 18, 19, 20, 21, 22, 23, 24, 25, 26, 27, 28, 29, 30, 31]\n",
      "[1, 2, 3, 4, 5, 6, 7, 8, 9, 10, 11, 12, 13, 14, 15, 16, 17, 18, 19, 20, 21, 22, 23, 24, 25, 26, 27, 28, 29, 30, 31]\n",
      "['Registro asistencia', None, 'Date :', 1, 'ID :', None, 1, 'ID :', None, 1, 'ID :', None, 1, 'ID :', None, 1, 'ID :', None, 1, 'ID :', None, 1, 'ID :', None, 1, 'ID :', None, 1, 'ID :', None, 1, 'ID :', None, 1, 'ID :', None, 1, 'ID :', None, 1, 'ID :', None, 1, 'ID :', None, 1, 'ID :', None, 1, 'ID :', None, 1, 'ID :', None]\n",
      "{6: {'row_name': 5, 'column': 'J', 'coordinate': 'J5', 'nombre': 'BenjaA', 'trabaja': 'Si'}, 9: {'row_name': 8, 'column': 'J', 'coordinate': 'J8', 'nombre': 'JavieraE', 'trabaja': 'Si'}, 12: {'row_name': 11, 'column': 'J', 'coordinate': 'J11', 'nombre': 'SandraF', 'trabaja': 'Si'}, 15: {'row_name': 14, 'column': 'J', 'coordinate': 'J14', 'nombre': 'EduardoL', 'trabaja': 'Si'}, 18: {'row_name': 17, 'column': 'J', 'coordinate': 'J17', 'nombre': 'AlejandraR', 'trabaja': 'No'}, 21: {'row_name': 20, 'column': 'J', 'coordinate': 'J20', 'nombre': 'SebastianJ', 'trabaja': 'Si'}, 24: {'row_name': 23, 'column': 'J', 'coordinate': 'J23', 'nombre': 'AngelinaD', 'trabaja': 'Si'}, 27: {'row_name': 26, 'column': 'J', 'coordinate': 'J26', 'nombre': 'CesarA', 'trabaja': 'Si'}, 30: {'row_name': 29, 'column': 'J', 'coordinate': 'J29', 'nombre': 'MarceloM', 'trabaja': 'Si'}, 33: {'row_name': 32, 'column': 'J', 'coordinate': 'J32', 'nombre': 'RicardoR', 'trabaja': 'Si'}, 36: {'row_name': 35, 'column': 'J', 'coordinate': 'J35', 'nombre': 'cata', 'trabaja': 'Si'}, 39: {'row_name': 38, 'column': 'J', 'coordinate': 'J38', 'nombre': 'TonoA', 'trabaja': 'Si'}, 42: {'row_name': 41, 'column': 'J', 'coordinate': 'J41', 'nombre': 'BraulioG', 'trabaja': 'Si'}, 45: {'row_name': 44, 'column': 'J', 'coordinate': 'J44', 'nombre': 'jose', 'trabaja': 'Si'}, 48: {'row_name': 47, 'column': 'J', 'coordinate': 'J47', 'nombre': 'jake', 'trabaja': 'Si'}, 51: {'row_name': 50, 'column': 'J', 'coordinate': 'J50', 'nombre': 'Catalina Arce', 'trabaja': 'Si'}, 54: {'row_name': 53, 'column': 'J', 'coordinate': 'J53', 'nombre': 'MarceloF', 'trabaja': 'Si'}}\n"
     ]
    }
   ],
   "source": [
    "print(columns_month)\n",
    "print(days_of_month)\n",
    "print(cell_values_a_row)\n",
    "print(names_employees)"
   ]
  },
  {
   "cell_type": "code",
   "execution_count": 28,
   "metadata": {},
   "outputs": [],
   "source": [
    "time_rows = [6, 9, 12, 15, 18, 21, 24, 27, 30, 33, 36, 39, 42, 45]\n",
    "# Create array to check if all column is none\n",
    "array_times = []\n",
    "for row_number in time_rows:\n",
    "    for row in registro_asistencia_sheet.iter_rows(min_row=row_number, max_row= row_number, max_col=max(columns_month), values_only=True):\n",
    "        array_times.append(row)\n",
    "array_times = np.array(array_times)"
   ]
  },
  {
   "cell_type": "code",
   "execution_count": 29,
   "metadata": {},
   "outputs": [],
   "source": [
    "# Logic to see if day was worked\n",
    "mask_dict = {}\n",
    "for column, index_col in zip(array_times.T, columns_month):\n",
    "    if all(value is None for value in column):\n",
    "        mask_dict[index_col] = 'Holiday'\n",
    "    else:\n",
    "        mask_dict[index_col] = 'Work'"
   ]
  },
  {
   "cell_type": "code",
   "execution_count": 30,
   "metadata": {},
   "outputs": [
    {
     "name": "stdout",
     "output_type": "stream",
     "text": [
      "BenjaA\n",
      "JavieraE\n",
      "SandraF\n",
      "EduardoL\n",
      "AlejandraR\n",
      "SebastianJ\n",
      "AngelinaD\n",
      "CesarA\n",
      "MarceloM\n",
      "RicardoR\n",
      "cata\n",
      "TonoA\n",
      "BraulioG\n",
      "jose\n"
     ]
    }
   ],
   "source": [
    "for row_number in time_rows:\n",
    "    print(names_employees[row_number]['nombre'])\n",
    "    for row in registro_asistencia_sheet.iter_rows(min_row=row_number, max_row= row_number, max_col=max(columns_month)):\n",
    "        # each row is one employee\n",
    "        for cell in row:\n",
    "            # Check if it is work day \n",
    "            if mask_dict[cell.column] == 'Work':\n",
    "                if cell.value is not None:\n",
    "                    # Case 1\n",
    "                    list_times_splitted = cell.value.splitlines()\n",
    "                    if len(list_times_splitted) == 2:\n",
    "                        str_to_write = f'{list_times_splitted[0]}' + '\\n' + f'{list_times_splitted[-1]}'\n",
    "                    # Case 2\n",
    "                    elif len(list_times_splitted) > 2:\n",
    "                        str_to_write = f'{list_times_splitted[0]}' + '\\n' + f'{list_times_splitted[-1]}'\n",
    "                    # Case 3\n",
    "                    elif len(list_times_splitted) ==1:\n",
    "                        str_to_write = f'{generate_random_time(\"Morning\")}' + '\\n' + f'{generate_random_time(\"Noon\")}'\n",
    "                elif cell.value is None:\n",
    "                    str_to_write = f'{generate_random_time(\"Morning\")}' + '\\n' + f'{generate_random_time(\"Noon\")}' \n",
    "                # print(str_to_write)\n",
    "                cell.value = str_to_write\n",
    "            \n",
    "            elif mask_dict[cell.column] == 'Holiday':\n",
    "                continue\n",
    "            \n",
    "        # if row[0].value is not None:\n",
    "        #     print(row[0].value.splitlines())   "
   ]
  },
  {
   "cell_type": "code",
   "execution_count": 31,
   "metadata": {},
   "outputs": [],
   "source": [
    "workbook.save(filepath_to_save)"
   ]
  },
  {
   "cell_type": "code",
   "execution_count": null,
   "metadata": {},
   "outputs": [],
   "source": []
  }
 ],
 "metadata": {
  "kernelspec": {
   "display_name": ".venv",
   "language": "python",
   "name": "python3"
  },
  "language_info": {
   "codemirror_mode": {
    "name": "ipython",
    "version": 3
   },
   "file_extension": ".py",
   "mimetype": "text/x-python",
   "name": "python",
   "nbconvert_exporter": "python",
   "pygments_lexer": "ipython3",
   "version": "3.11.0"
  }
 },
 "nbformat": 4,
 "nbformat_minor": 2
}
