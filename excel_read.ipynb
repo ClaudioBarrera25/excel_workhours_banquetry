{
 "cells": [
  {
   "cell_type": "code",
   "execution_count": 118,
   "metadata": {},
   "outputs": [],
   "source": [
    "from openpyxl import Workbook, load_workbook\n",
    "import numpy as np\n",
    "import random\n",
    "\n",
    "def generate_random_time(time_day='Noon'):\n",
    "    if time_day == 'Noon':\n",
    "        hour = random.randint(16, 17)\n",
    "        if hour ==16:\n",
    "            minute = random.randint(0, 59)\n",
    "        elif hour == 17:\n",
    "            minute = random.randint(0, 30)\n",
    "    if time_day == 'Morning':\n",
    "        hour = random.randint(7, 8)\n",
    "        if hour ==7:\n",
    "            minute = random.randint(0, 59)\n",
    "        elif hour ==8:\n",
    "            minute = random.randint(0, 30)\n",
    "    return f\"{hour:02d}:{minute:02d}\"\n",
    "\n",
    "files_subscript = ['2022-09','2022-10','2022-11','2022-12','2023-01','2023-02','2023-03','2023-04','2023-05','2023-06','2023-07','2023-08','2023-09']\n",
    "\n",
    "filepath_to_load = f'Asistencias 2023\\xlsx\\Todos los informes({files_subscript[0]}).xlsx'\n",
    "filepath_to_save = f'Asistencias 2023\\completos\\Todos los informes({files_subscript[0]}).xlsx'\n",
    "\n",
    "\n",
    "workbook = load_workbook(filename=filepath_to_load)\n",
    "sheetnames = workbook.sheetnames \n",
    "registro_asistencia_sheet = workbook['Registro asistencia']"
   ]
  },
  {
   "cell_type": "code",
   "execution_count": 112,
   "metadata": {},
   "outputs": [],
   "source": [
    "# Check length of the rows \n",
    "cell_values_a_row = []\n",
    "for cell in registro_asistencia_sheet.iter_rows(min_row=1,min_col=1, max_col=1):\n",
    "    cell_values_a_row.append(cell[0].value)\n",
    "\n",
    "days_of_month = []\n",
    "for cell in registro_asistencia_sheet.iter_rows(min_row=4, max_row=4,min_col=1):\n",
    "    for col in cell:\n",
    "        if col.value != None:\n",
    "            days_of_month.append(col.value)\n",
    "\n",
    "columns_month = []\n",
    "for cell in registro_asistencia_sheet.iter_rows(min_row=4, max_row=4,min_col=1):\n",
    "    for col in cell:\n",
    "        if col.value != None:\n",
    "            columns_month.append(col.column) \n",
    "\n",
    "no_trabaja = ['AlejandraR']\n",
    "names_employees = {}\n",
    "for row in registro_asistencia_sheet.iter_rows(min_row=4,min_col=1):\n",
    "    nombre_str = row[7].value\n",
    "    nombre_value = row[9].value\n",
    "    coordenada = row[9].coordinate\n",
    "    column_letter = row[9].column_letter\n",
    "    row_name = row[9].row\n",
    "    row_time = row[9].row +1 \n",
    "    if nombre_str  == 'Nombre :' and nombre_value in no_trabaja:\n",
    "        names_employees[row_time] = {'row_name':row_name, 'column':column_letter, 'coordinate': coordenada, 'nombre':nombre_value, 'trabaja': 'No'} \n",
    "    if nombre_str  == 'Nombre :' and nombre_value not in no_trabaja:\n",
    "        names_employees[row_time] = {'row_name':row_name, 'column':column_letter, 'coordinate': coordenada, 'nombre':nombre_value, 'trabaja': 'Si'} "
   ]
  },
  {
   "cell_type": "code",
   "execution_count": 79,
   "metadata": {},
   "outputs": [],
   "source": [
    "time_rows = [6, 9, 12, 15, 18, 21, 24, 27, 30, 33, 36, 39, 42, 45]\n",
    "# Create array to check if all column is none\n",
    "array_times = []\n",
    "for row_number in time_rows:\n",
    "    for row in registro_asistencia_sheet.iter_rows(min_row=row_number, max_row= row_number, max_col=max(columns_month), values_only=True):\n",
    "        array_times.append(row)\n",
    "array_times = np.array(array_times)"
   ]
  },
  {
   "cell_type": "code",
   "execution_count": 90,
   "metadata": {},
   "outputs": [],
   "source": [
    "# Logic to see if day was worked\n",
    "mask_dict = {}\n",
    "for column, index_col in zip(array_times.T, columns_month):\n",
    "    if all(value is None for value in column):\n",
    "        mask_dict[index_col] = 'Holiday'\n",
    "    else:\n",
    "        mask_dict[index_col] = 'Work'"
   ]
  },
  {
   "cell_type": "code",
   "execution_count": 130,
   "metadata": {},
   "outputs": [
    {
     "name": "stdout",
     "output_type": "stream",
     "text": [
      "BenjaA\n",
      "JavieraE\n",
      "SandraF\n",
      "EduardoL\n",
      "AlejandraR\n",
      "SebastianJ\n",
      "AngelinaD\n",
      "CesarA\n",
      "MarceloM\n",
      "RicardoR\n",
      "cata\n",
      "TonoA\n",
      "BraulioG\n",
      "jose\n"
     ]
    }
   ],
   "source": [
    "for row_number in time_rows:\n",
    "    print(names_employees[row_number]['nombre'])\n",
    "    for row in registro_asistencia_sheet.iter_rows(min_row=row_number, max_row= row_number, max_col=max(columns_month)):\n",
    "        # each row is one employee\n",
    "        for cell in row:\n",
    "            # Check if it is work day \n",
    "            if mask_dict[cell.column] == 'Work':\n",
    "                if cell.value is not None:\n",
    "                    # Case 1\n",
    "                    list_times_splitted = cell.value.splitlines()\n",
    "                    if len(list_times_splitted) == 2:\n",
    "                        str_to_write = f'{list_times_splitted[0]}' + '\\n' + f'{list_times_splitted[-1]}'\n",
    "                    # Case 2\n",
    "                    elif len(list_times_splitted) > 2:\n",
    "                        str_to_write = f'{list_times_splitted[0]}' + '\\n' + f'{list_times_splitted[-1]}'\n",
    "                    # Case 3\n",
    "                    elif len(list_times_splitted) ==1:\n",
    "                        str_to_write = f'{generate_random_time(\"Morning\")}' + '\\n' + f'{generate_random_time(\"Noon\")}'\n",
    "                elif cell.value is None:\n",
    "                    str_to_write = f'{generate_random_time(\"Morning\")}' + '\\n' + f'{generate_random_time(\"Noon\")}' \n",
    "                # print(str_to_write)\n",
    "                cell.value = str_to_write\n",
    "            \n",
    "            elif mask_dict[cell.column] == 'Holiday':\n",
    "                continue\n",
    "            \n",
    "        # if row[0].value is not None:\n",
    "        #     print(row[0].value.splitlines())   "
   ]
  },
  {
   "cell_type": "code",
   "execution_count": 131,
   "metadata": {},
   "outputs": [],
   "source": [
    "workbook.save(filepath_to_save)"
   ]
  }
 ],
 "metadata": {
  "kernelspec": {
   "display_name": ".venv",
   "language": "python",
   "name": "python3"
  },
  "language_info": {
   "codemirror_mode": {
    "name": "ipython",
    "version": 3
   },
   "file_extension": ".py",
   "mimetype": "text/x-python",
   "name": "python",
   "nbconvert_exporter": "python",
   "pygments_lexer": "ipython3",
   "version": "3.11.0"
  }
 },
 "nbformat": 4,
 "nbformat_minor": 2
}
